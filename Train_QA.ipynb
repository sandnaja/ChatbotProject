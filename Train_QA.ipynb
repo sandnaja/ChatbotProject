{
  "nbformat": 4,
  "nbformat_minor": 0,
  "metadata": {
    "colab": {
      "name": "Train QA.ipynb",
      "provenance": [],
      "authorship_tag": "ABX9TyMYjG3UDFy7eZTQzBvgXnUX",
      "include_colab_link": true
    },
    "kernelspec": {
      "name": "python3",
      "display_name": "Python 3"
    },
    "language_info": {
      "name": "python"
    },
    "accelerator": "GPU"
  },
  "cells": [
    {
      "cell_type": "markdown",
      "metadata": {
        "id": "view-in-github",
        "colab_type": "text"
      },
      "source": [
        "<a href=\"https://colab.research.google.com/github/sandnaja/ChatbotProject/blob/main/Train_QA.ipynb\" target=\"_parent\"><img src=\"https://colab.research.google.com/assets/colab-badge.svg\" alt=\"Open In Colab\"/></a>"
      ]
    },
    {
      "cell_type": "code",
      "source": [
        "!nvidia-smi"
      ],
      "metadata": {
        "colab": {
          "base_uri": "https://localhost:8080/"
        },
        "id": "tEN6ynzY8BO5",
        "outputId": "a0d698ee-9fcc-46ce-fc3a-2ef27779d32c"
      },
      "execution_count": 2,
      "outputs": [
        {
          "output_type": "stream",
          "name": "stdout",
          "text": [
            "NVIDIA-SMI has failed because it couldn't communicate with the NVIDIA driver. Make sure that the latest NVIDIA driver is installed and running.\n",
            "\n"
          ]
        }
      ]
    },
    {
      "cell_type": "code",
      "execution_count": 3,
      "metadata": {
        "colab": {
          "base_uri": "https://localhost:8080/"
        },
        "id": "LTrz9_Rb7CBB",
        "outputId": "712ff6dd-8c5f-4e80-b009-aa846c1c612f"
      },
      "outputs": [
        {
          "output_type": "execute_result",
          "data": {
            "text/plain": [
              "False"
            ]
          },
          "metadata": {},
          "execution_count": 3
        }
      ],
      "source": [
        "import torch\n",
        "torch.cuda.is_available()"
      ]
    },
    {
      "cell_type": "code",
      "source": [
        "!pip -q install transformers"
      ],
      "metadata": {
        "id": "AFUQ-MRf8SZm",
        "colab": {
          "base_uri": "https://localhost:8080/"
        },
        "outputId": "43416120-6a2d-43e2-873f-3ea10ea5f299"
      },
      "execution_count": null,
      "outputs": [
        {
          "output_type": "stream",
          "name": "stdout",
          "text": [
            "\u001b[K     |████████████████████████████████| 4.0 MB 5.0 MB/s \n",
            "\u001b[K     |████████████████████████████████| 596 kB 54.4 MB/s \n",
            "\u001b[K     |████████████████████████████████| 77 kB 6.1 MB/s \n",
            "\u001b[K     |████████████████████████████████| 880 kB 54.5 MB/s \n",
            "\u001b[K     |████████████████████████████████| 6.6 MB 44.6 MB/s \n",
            "\u001b[?25h  Building wheel for sacremoses (setup.py) ... \u001b[?25l\u001b[?25hdone\n"
          ]
        }
      ]
    },
    {
      "cell_type": "code",
      "source": [
        "!pip -q install datasets"
      ],
      "metadata": {
        "id": "NVON7Uia8Wms"
      },
      "execution_count": null,
      "outputs": []
    },
    {
      "cell_type": "code",
      "source": [
        "from datasets import load_dataset\n",
        "thaiqa_ds = load_dataset('thaiqa_squad')"
      ],
      "metadata": {
        "id": "NPmnug0N8_oU"
      },
      "execution_count": null,
      "outputs": []
    },
    {
      "cell_type": "code",
      "source": [
        "thaiqa_ds"
      ],
      "metadata": {
        "id": "Uqtz5WJf9KyP"
      },
      "execution_count": null,
      "outputs": []
    },
    {
      "cell_type": "code",
      "source": [
        "import pandas as pd\n",
        "qa_train = pd.DataFrame(thaiqa_ds[\"train\"])"
      ],
      "metadata": {
        "id": "3EcXXLp89NYi"
      },
      "execution_count": null,
      "outputs": []
    },
    {
      "cell_type": "code",
      "source": [
        "qa_train"
      ],
      "metadata": {
        "id": "B2Y8u7So9RaQ"
      },
      "execution_count": null,
      "outputs": []
    },
    {
      "cell_type": "code",
      "source": [
        "qa_train[\"context\"]"
      ],
      "metadata": {
        "id": "IhN8EJ919VSQ"
      },
      "execution_count": null,
      "outputs": []
    },
    {
      "cell_type": "code",
      "source": [
        "qa_train[\"context\"][0]"
      ],
      "metadata": {
        "id": "98IccfJu9YRH"
      },
      "execution_count": null,
      "outputs": []
    },
    {
      "cell_type": "code",
      "source": [
        "from lxml import etree\n",
        "parser = etree.XMLParser(recover=True)\n",
        "tree = etree.fromstring(qa_train[\"context\"][0], parser=parser)\n",
        "print(tree.tag)\n",
        "print(tree.attrib)\n",
        "print(tree.text)"
      ],
      "metadata": {
        "id": "KVjsn72S9bFP"
      },
      "execution_count": null,
      "outputs": []
    },
    {
      "cell_type": "code",
      "source": [
        "def extract_text(body):\n",
        "  tree = etree.fromstring(body, parser=parser)\n",
        "  return tree.text"
      ],
      "metadata": {
        "id": "Uc8YrB1_9bbJ"
      },
      "execution_count": null,
      "outputs": []
    },
    {
      "cell_type": "code",
      "source": [
        "extract_text(qa_train[\"context\"][0])"
      ],
      "metadata": {
        "id": "Rk0vZRvr9gDE"
      },
      "execution_count": null,
      "outputs": []
    },
    {
      "cell_type": "code",
      "source": [
        "qa_train[\"context_text\"] = qa_train[\"context\"].apply(extract_text)"
      ],
      "metadata": {
        "id": "h47aEFVN9uXU"
      },
      "execution_count": null,
      "outputs": []
    },
    {
      "cell_type": "code",
      "source": [
        "qa_train.head()"
      ],
      "metadata": {
        "id": "Ji5xsspS95I-"
      },
      "execution_count": null,
      "outputs": []
    },
    {
      "cell_type": "code",
      "source": [
        "!pip -q install pythainlp"
      ],
      "metadata": {
        "id": "B0d1Hfpq-M_n"
      },
      "execution_count": null,
      "outputs": []
    },
    {
      "cell_type": "code",
      "source": [
        "from pythainlp.tokenize import word_tokenize\n",
        "qa_train[\"context_text_wordsegged\"] = qa_train[\"context_text\"].apply(lambda x: ' '.join(word_tokenize(x)))"
      ],
      "metadata": {
        "id": "hY2j6uBf99ug"
      },
      "execution_count": null,
      "outputs": []
    },
    {
      "cell_type": "code",
      "source": [
        "qa_train[\"question_wordsegged\"] = qa_train[\"question\"].apply(lambda x: ' '.join(word_tokenize(x)))"
      ],
      "metadata": {
        "id": "1OFHwlseAV8C"
      },
      "execution_count": null,
      "outputs": []
    },
    {
      "cell_type": "code",
      "source": [
        "qa_train.head()"
      ],
      "metadata": {
        "id": "eDDrx8juAcE-"
      },
      "execution_count": null,
      "outputs": []
    },
    {
      "cell_type": "code",
      "source": [
        "qa_train[\"answers_wordsegged\"] =  qa_train[\"answers\"].apply(lambda x: ' '.join(word_tokenize(x[\"answer\"][0])))"
      ],
      "metadata": {
        "id": "Ajnwe8VlBDdd"
      },
      "execution_count": null,
      "outputs": []
    },
    {
      "cell_type": "code",
      "source": [
        "qa_train.head()"
      ],
      "metadata": {
        "id": "8WXr1s9bBGWz"
      },
      "execution_count": null,
      "outputs": []
    },
    {
      "cell_type": "code",
      "source": [
        "answer_starts = []\n",
        "for idx, row in qa_train.iterrows():\n",
        "  try:\n",
        "    answer_start = row[\"context_text_wordsegged\"].index(row[\"answers_wordsegged\"])\n",
        "  except:\n",
        "    answer_start = -1\n",
        "  answer_starts.append(answer_start)"
      ],
      "metadata": {
        "id": "py6Br6JZBMES"
      },
      "execution_count": null,
      "outputs": []
    },
    {
      "cell_type": "code",
      "source": [
        "qa_train[\"answer_starts\"] = answer_starts"
      ],
      "metadata": {
        "id": "H3xJenIiBRm2"
      },
      "execution_count": null,
      "outputs": []
    },
    {
      "cell_type": "code",
      "source": [
        "qa_train.tail()"
      ],
      "metadata": {
        "id": "Asc91582BWD9"
      },
      "execution_count": null,
      "outputs": []
    },
    {
      "cell_type": "code",
      "source": [
        "qa_train.head()"
      ],
      "metadata": {
        "id": "slNHcP_VB55u"
      },
      "execution_count": null,
      "outputs": []
    },
    {
      "cell_type": "code",
      "source": [
        "train_data = []\n",
        "for idx, row in qa_train.iterrows():\n",
        "  doc = {}\n",
        "  doc[\"context\"] = row[\"context_text_wordsegged\"]\n",
        "  doc[\"qas\"] = [{\"id\":idx, \"is_impossible\":row[\"answer_starts\"]<0,\"question\":row[\"question_wordsegged\"],\"answers\":[{\"text\":row[\"answers_wordsegged\"], \"answer_start\":row[\"answer_starts\"]}]}]\n",
        "  train_data.append(doc)"
      ],
      "metadata": {
        "id": "bPyfNEjrCGgW"
      },
      "execution_count": null,
      "outputs": []
    },
    {
      "cell_type": "code",
      "source": [
        "train_data"
      ],
      "metadata": {
        "id": "h3E2YC4mDTjJ"
      },
      "execution_count": null,
      "outputs": []
    },
    {
      "cell_type": "code",
      "source": [
        "from transformers import AutoTokenizer, AutoModel\n",
        "from google.colab import widgets"
      ],
      "metadata": {
        "id": "TqUAYnK_Dudq"
      },
      "execution_count": null,
      "outputs": []
    },
    {
      "cell_type": "code",
      "source": [
        "pretrained = \"monsoon-nlp/bert-base-thai\""
      ],
      "metadata": {
        "id": "QqT9Ob7aD1W6"
      },
      "execution_count": null,
      "outputs": []
    },
    {
      "cell_type": "code",
      "source": [
        "name = pretrained"
      ],
      "metadata": {
        "id": "5_OEnsOLEf4q"
      },
      "execution_count": null,
      "outputs": []
    },
    {
      "cell_type": "code",
      "source": [
        "tokenizer = AutoTokenizer.from_pretrained(name, use_fast=True)\n",
        "model = AutoModel.from_pretrained(name)"
      ],
      "metadata": {
        "id": "EWJMkqzeEid-"
      },
      "execution_count": null,
      "outputs": []
    },
    {
      "cell_type": "code",
      "source": [
        "from transformers import pipeline"
      ],
      "metadata": {
        "id": "xbHMbC9QE0Wm"
      },
      "execution_count": null,
      "outputs": []
    },
    {
      "cell_type": "code",
      "source": [
        "!pip install matplotlib-venn"
      ],
      "metadata": {
        "id": "SlozNXRn7CRQ"
      },
      "execution_count": null,
      "outputs": []
    },
    {
      "cell_type": "code",
      "source": [
        "!apt-get -qq install -y libfluidsynth1"
      ],
      "metadata": {
        "id": "Oodw_tYN7F2Q"
      },
      "execution_count": null,
      "outputs": []
    },
    {
      "cell_type": "code",
      "source": [
        "!apt-get -qq install -y libarchive-dev && pip install -U libarchive\n",
        "import libarchive"
      ],
      "metadata": {
        "id": "c0QCyivy7JWY"
      },
      "execution_count": null,
      "outputs": []
    },
    {
      "cell_type": "code",
      "source": [
        "!apt-get -qq install -y graphviz && pip install pydot\n",
        "import pydot"
      ],
      "metadata": {
        "id": "8ZZ_PlIW7OJr"
      },
      "execution_count": null,
      "outputs": []
    },
    {
      "cell_type": "code",
      "source": [
        "!pip install cartopy\n",
        "import cartopy"
      ],
      "metadata": {
        "id": "9iwvu6e_7Rxi"
      },
      "execution_count": null,
      "outputs": []
    },
    {
      "cell_type": "code",
      "source": [
        "!pip install simpletransformers"
      ],
      "metadata": {
        "id": "P3rd8c3R7U4O"
      },
      "execution_count": null,
      "outputs": []
    },
    {
      "cell_type": "code",
      "source": [
        "from google.colab import drive\n",
        "drive.mount('/content/drive')"
      ],
      "metadata": {
        "id": "coDsuNhDu1Tw"
      },
      "execution_count": null,
      "outputs": []
    },
    {
      "cell_type": "code",
      "source": [
        "from simpletransformers.question_answering import QuestionAnsweringModel,QuestionAnsweringArgs"
      ],
      "metadata": {
        "id": "0c0nxbdrFA5d"
      },
      "execution_count": null,
      "outputs": []
    },
    {
      "cell_type": "code",
      "source": [
        "from simpletransformers.question_answering import QuestionAnsweringModel,QuestionAnsweringArgs\n",
        "\n",
        "\n",
        "# Configure the model\n",
        "model_args = QuestionAnsweringArgs()\n",
        "model_args.train_batch_size = 32\n",
        "model_args.evaluate_during_training = True\n",
        "model_args.num_train_epochs = 3\n",
        "model_args.overwrite_output_dir = True\n",
        "\n",
        "# model_args = {\n",
        "#     \"reprocess_input_data\": True,\n",
        "#     'train_batch_size':32,\n",
        "#     \"use_early_stopping\": True,\n",
        "#     \"early_stopping_delta\": 0.01,\n",
        "#     \"early_stopping_metric\": \"mcc\",\n",
        "#     \"early_stopping_metric_minimize\": False,\n",
        "#     \"early_stopping_patience\": 5,\n",
        "#     \"evaluate_during_training_steps\": 500,\n",
        "#     \"fp16\": False,\n",
        "#     \"num_train_epochs\":3,\n",
        "#     \"overwrite_output_dir\":True\n",
        "# }\n",
        "\n",
        "model = QuestionAnsweringModel(\n",
        "    \"bert\", name, args=model_args\n",
        ")\n",
        "\n",
        "# Train the model\n",
        "model.train_model(train_data, eval_data=train_data)\n",
        "\n",
        "# Evaluate the model\n",
        "result, texts = model.eval_model(train_data)"
      ],
      "metadata": {
        "id": "YkRWcalQDkXM"
      },
      "execution_count": null,
      "outputs": []
    },
    {
      "cell_type": "code",
      "source": [
        "QuestionAnsweringModel.save_model(\"./model-QA-wangchanberta\")"
      ],
      "metadata": {
        "id": "4aU72ExlqOdn"
      },
      "execution_count": null,
      "outputs": []
    }
  ]
}